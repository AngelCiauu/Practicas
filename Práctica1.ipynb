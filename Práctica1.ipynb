{
 "cells": [
  {
   "cell_type": "markdown",
   "id": "e4566b92",
   "metadata": {},
   "source": [
    "## Práctica 1"
   ]
  },
  {
   "cell_type": "markdown",
   "id": "907a9bc7",
   "metadata": {},
   "source": [
    "### 1. Introducción\n",
    "<div style=\"text-align: justify\"> Durante el desarrollo de esta práctica se aprendió de manera simplificada la interacción que tiene la corriente con los diodos de manera gráfica. De igual manera, se aborda la rectificación como estrategia para alargar la vida vida útil de los componentes polarizados. </div>\n",
    "\n",
    "#### 1.1 Voltaje 127 AC\n",
    "<div style=\"text-align: justify\"> Existen múltiples formas de alimentación eléctrica, la más utilizada de manera cotidiana es mediante el voltaje de 127 volts con el que la mayoría contamos en nuestros hogares. Este voltaje se conoce como voltaje nominal y está regulado por el \"Reglamento de la Ley del Servicio Público de Energía Eléctrica\". Durante esta práctica se utilizará dicho voltaje como forma de alimentación del circuito que se utilizará para analizar el comportamiento de la corriente en dos situaciones. </div>\n",
    "\n",
    "#### 1.2 Diodos\n",
    "<div style=\"text-align: justify\"> Los diodos son dispositivos que interactúan como interruptores unidireccionales, lo cual significa que permiten que la corriente fluya únicamente en una dirección. Cuentan con dos términales llamadas ánodo y cátodo, las cuales son positiva y negativa respectivamente. </div>\n",
    "\n",
    "#### 1.3 Resistencia\n",
    "<div style=\"text-align: justify\"> Estos componentes están hechos de carbón u otros materiales que se oponen al flujo de corriente, lo cual genera una característica eléctrica llamada \"resistencia\". Esta característica se define como la oposición al flujo de electrones a través de un conductor. </div>\n",
    "\n",
    "#### 1.4 Rectificador de media onda\n",
    "<div style=\"text-align: justify\"> De manera general es un circuito simple empleado para eliminar la mitad de una onda, ya sea la parte positiva o la negativa. Para realizar uno de estos rectificadores basta con colocar un diodo en el circuito. También existen los rectificadores de onda completa cuya construcción es ligeramente más compleja, donde se requieren 4 diodos en un arreglo específico. </div>"
   ]
  },
  {
   "cell_type": "markdown",
   "id": "a92cbb4b",
   "metadata": {},
   "source": [
    "### 2. Diseño\n",
    "#### 2.1 Componentes\n",
    "A continuación se presenta la lista de los componentes utilizados en ambos casos de la práctica.\n",
    "\n",
    "|     Componente    | Cantidad |\n",
    "|:-----------------:|:--------:|\n",
    "| Cable cal. 22     | 2m       |\n",
    "| Clavija con cable | 1        |\n",
    "| LED               | 1        |\n",
    "| Diodo 1N4007      | 1        |\n",
    "| Resistencia 30K   | 1        |\n",
    "\n",
    "#### 2.2 Circuito\n",
    "La realización de ambos circutos fue bastante sencilla, sólo consistió en colocar componentes en serie para la primera prueba y posteriormente colocar el diodo 1N4007 en paralelo al LED para la segunda. se siguió el diagrama planteado a continuación:\n",
    "[colocar imagen]"
   ]
  },
  {
   "cell_type": "markdown",
   "id": "d114e9cc",
   "metadata": {},
   "source": [
    "### 3. Simulación\n",
    "Ciau"
   ]
  },
  {
   "cell_type": "markdown",
   "id": "b68619a3",
   "metadata": {},
   "source": [
    "### 4. Resultados\n",
    "Pendiente"
   ]
  },
  {
   "cell_type": "markdown",
   "id": "2bb5274c",
   "metadata": {},
   "source": [
    "### 5. Conclusiones\n",
    "Pendiente\n"
   ]
  },
  {
   "cell_type": "code",
   "execution_count": null,
   "id": "0824b97b",
   "metadata": {},
   "outputs": [],
   "source": []
  }
 ],
 "metadata": {
  "kernelspec": {
   "display_name": "Python 3 (ipykernel)",
   "language": "python",
   "name": "python3"
  },
  "language_info": {
   "codemirror_mode": {
    "name": "ipython",
    "version": 3
   },
   "file_extension": ".py",
   "mimetype": "text/x-python",
   "name": "python",
   "nbconvert_exporter": "python",
   "pygments_lexer": "ipython3",
   "version": "3.7.7"
  }
 },
 "nbformat": 4,
 "nbformat_minor": 5
}
